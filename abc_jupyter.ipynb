{
 "cells": [
  {
   "cell_type": "code",
   "execution_count": 1,
   "id": "2f29cb7e",
   "metadata": {},
   "outputs": [
    {
     "name": "stdout",
     "output_type": "stream",
     "text": [
      "My Name is Syed Muhammad Ovais\n",
      "My CNIC number is 42101-4941769-5\n",
      "Pakistan ZIndabad\n"
     ]
    }
   ],
   "source": [
    "print(\"My Name is Syed Muhammad Ovais\")\n",
    "print(\"My CNIC number is 42101-4941769-5\")\n",
    "print(\"Pakistan ZIndabad\")"
   ]
  },
  {
   "cell_type": "code",
   "execution_count": null,
   "id": "2ceea7b9",
   "metadata": {},
   "outputs": [],
   "source": []
  }
 ],
 "metadata": {
  "kernelspec": {
   "display_name": "Python 3 (ipykernel)",
   "language": "python",
   "name": "python3"
  },
  "language_info": {
   "codemirror_mode": {
    "name": "ipython",
    "version": 3
   },
   "file_extension": ".py",
   "mimetype": "text/x-python",
   "name": "python",
   "nbconvert_exporter": "python",
   "pygments_lexer": "ipython3",
   "version": "3.11.3"
  }
 },
 "nbformat": 4,
 "nbformat_minor": 5
}
